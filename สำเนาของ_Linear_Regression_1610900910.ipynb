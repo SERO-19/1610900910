{
  "nbformat": 4,
  "nbformat_minor": 0,
  "metadata": {
    "colab": {
      "name": "สำเนาของ Linear Regression_1610900910.ipynb",
      "provenance": [],
      "authorship_tag": "ABX9TyOq1aoPYkTd8TTw6IErvgOv",
      "include_colab_link": true
    },
    "kernelspec": {
      "name": "python3",
      "display_name": "Python 3"
    }
  },
  "cells": [
    {
      "cell_type": "markdown",
      "metadata": {
        "id": "view-in-github",
        "colab_type": "text"
      },
      "source": [
        "<a href=\"https://colab.research.google.com/github/SERO-19/1610900910/blob/master/%E0%B8%AA%E0%B8%B3%E0%B9%80%E0%B8%99%E0%B8%B2%E0%B8%82%E0%B8%AD%E0%B8%87_Linear_Regression_1610900910.ipynb\" target=\"_parent\"><img src=\"https://colab.research.google.com/assets/colab-badge.svg\" alt=\"Open In Colab\"/></a>"
      ]
    },
    {
      "cell_type": "markdown",
      "metadata": {
        "id": "Cd5eQ3M9t1HF",
        "colab_type": "text"
      },
      "source": [
        "# Assignment\n",
        "ให้ นศ. ทำการเติมโค้ดให้สมบูรณ์ เพื่อใช้ในการสร้างโมเดล Linear Regression ที่ใช้ประมาณการณ์ยอดขายเกม console ทั่วโลก (Global_Sales)โดยใช้ยอดขายของทวีปอเมริกาเหนือ (NA_Sales) และ ยอดขายจากยุโรป (EU_Sales)\n",
        "\n"
      ]
    },
    {
      "cell_type": "code",
      "metadata": {
        "id": "zKWylsgDtqAz",
        "colab_type": "code",
        "colab": {}
      },
      "source": [
        "import pandas as pd\n",
        "import numpy as np\n",
        "...................................................   # import package \"matplotlib\" ซึ่งแทนด้วยตัวแปร plt\n",
        "...................................................   # import ชุดคำสั่งที่ใช้ในการ split ข้อมูลออกเป็น train และ test\n",
        "...................................................   # import ชุดคำสั่งที่ใช้ในการสร้างโมเดล Linear Regression\n",
        "...................................................   # import ชุดคำสั่งที่ใช้ในการคำนวณ mean squared error\n",
        "\n",
        "url = 'https://raw.githubusercontent.com/wisarn/Summer/master/modified2_Video_Games_Sales_as_at_22_Dec_2016.csv'\n",
        "\n",
        "data = ..............................                 # โหลดข้อมูลที่เป็น csv จาก url ที่กำหนด\n",
        "\n",
        "y = data['Global_Sales'].values     \t                # เลือก column \"Global_Sales\" เป็น label หรือ output vector\n",
        "X = ......................              \t            # เลือก column NA_Sales และ EU_Sales เพื่อใช้เป็น feature vector\n",
        "\n",
        "...................................................   # แยกชุดข้อมูลที่มีออกเป็น train และ test set โดยให้ test set \n",
        "                                                      # มีจำนวนเท่ากับ 20% ของชุดข้อมูลเดิมที่มี โดยใช้ random state = 10  \n",
        "\n",
        "X_train = X_train.reshape(-1,2)                       # เตรียม X_train เพื่อให้พร้อมสำหรับใช้สร้างโมเดลด้วย sklearn\n",
        "y_train = y_train.reshape(-1,1)                       # reshape ให้ y_train เป็น column vector (model ใน sklearn)\n",
        "\n",
        "model = ...........................................   # สร้าง linear regression object\n",
        "...................................................   # นำ train set มาเทรน linear regression model\n",
        "\n",
        "X_test = X_test.reshape(-1,2)                         # reshape ให้ X_test เป็น column vector (model ใน sklearn)\n",
        "y_test = y_test.reshape(-1,1)                         # reshape ให้ y_test เป็น column vector (model ใน sklearn)\n",
        "y_predict = .......................................   # ทำการประมาณยอดขายทั่วโลก โดยใช้ test set ที่ได้แยกออกมาก่อนหน้านี้\n",
        "mse = .......................................         # คำนวณ mean squared error ระหว่างค่าที่ประมาณได้ (y_predict) และ\n",
        "                                                      # ค่าจริงๆที่เป็น (y_test)\n",
        "print(\"MSE from Mean_Squared_Error : {}\".format(mse))\n",
        "\n",
        "m1 = np.array(model.coef_[0,0])                                               # เก็บค่าพารามิเตอร์ m1 ในรูปของ numpy array\n",
        "m2 = np.array(model.coef_[0,1])                                               # เก็บค่าพารามิเตอร์ m2 ในรูปของ numpy array\n",
        "m0 = np.array(model.intercept_[0])                                            # เก็บค่าพารามิเตอร์ m0 ในรูปของ numpy array\n",
        "\n",
        "#####################################################\n",
        "# คำนวณ mean squared error โดยตรงจากสมการโมเดลที่ได้\n",
        "#####################################################\n",
        "yh = m2*X_test[:,1].reshape(-1,1) + m1*X_test[:,0].reshape(-1,1) + m0         # สมการโมเดล Linear Regression y = m2*X2 + m1*X1 + m0\n",
        "msee = .......................................                                # คำนวณ mean squared error ระหว่าง yh และ y_test ซึ่งค่าที่ได้\n",
        "                                                                              # ควรจะได้เท่ากับค่าที่ได้จากคำสั่ง mean_squared_error( .... )\n",
        "print(\"MSE from direct calculation : {}\".format(msee))\n",
        "\n",
        "#####################################################\n",
        "# นำโมเดล Linear Regression ที่ได้มาประมาณยอดขายทั่วโลก\n",
        "#     เมื่อ ยอดขายของ NA_Sales = 200 M\n",
        "#         ยอดขายของ EU_Sales = 100 M\n",
        "#####################################################\n",
        "Xp = np.array([[200.0,100.0]])                                                # สร้าง feature column array สำหรับใช้กับโมเดล\n",
        "y1 = .......................................                                  # ประมาณยอดขายโดยใช้ sklearn\n",
        "y2 = .......................................                                  # ประมาณยอดขายโดยใช้การคำนวณจากสมการโมเดลโดยตรง คือ\n",
        "                                                                              #    y = m2*X2 + m1*X1 + m0\n",
        "                                                                              \n",
        "print(\"Global Sales from sklearn : {}\".format(y1))                            # ค่า y1 จาก sklearn ต้องได้เท่ากับ ค่า y2 ที่ได้จากการคำนวณโดยตรง\n",
        "print(\"Global Sales from direct calculation : {}\".format(y2))                 # จากสมการโมเดล"
      ],
      "execution_count": null,
      "outputs": []
    },
    {
      "cell_type": "markdown",
      "metadata": {
        "id": "lQloyy9Vt7-0",
        "colab_type": "text"
      },
      "source": [
        "# จิรัฐติกาล บูญชุม 1610900910"
      ]
    },
    {
      "cell_type": "code",
      "metadata": {
        "id": "0f9ogl9Ntyll",
        "colab_type": "code",
        "colab": {}
      },
      "source": [
        "import pandas as pd\n",
        "import numpy as np\n",
        "import matplotlib.pyplot as plt                                                # import package \"matplotlib\" ซึ่งแทนด้วยตัวแปร plt\n",
        "from sklearn.model_selection import train_test_split                 # import ชุดคำสั่งที่ใช้ในการ split ข้อมูลออกเป็น train และ test\n",
        "from sklearn.linear_model import LinearRegression                  # import ชุดคำสั่งที่ใช้ในการสร้างโมเดล Linear Regression\n",
        "from sklearn.metrics import mean_squared_error                    # import ชุดคำสั่งที่ใช้ในการคำนวณ mean squared error\n",
        "\n",
        "url = 'https://raw.githubusercontent.com/wisarn/Summer/master/modified2_Video_Games_Sales_as_at_22_Dec_2016.csv'\n",
        "\n",
        "data = pd.read_csv(url)                                                       # โหลดข้อมูลที่เป็น csv จาก url ที่กำหนด\n",
        "\n",
        "y = data['Global_Sales'].values                                                             # เลือก column \"Global_Sales\" เป็น label หรือ output vector\n",
        "X = data['NA_Sales'].isin(['EU_Sales'])                                                  # เลือก column NA_Sales และ EU_Sales เพื่อใช้เป็น feature vector\n",
        "\n",
        "X_train, X_test, y_train, y_test = train_test_split(X, y, test_size=0.2, random_state=10)       # แยกชุดข้อมูลที่มีออกเป็น train และ test set โดยให้ test set\n",
        "                                                                                                                                   # มีจำนวนเท่ากับ 20% ของชุดข้อมูลเดิมที่มี โดยใช้ random state = 10\n",
        "\n",
        "X_train = X_train.reshape(-1,2)                                              # เตรียม X_train เพื่อให้พร้อมสำหรับใช้สร้างโมเดลด้วย sklearn\n",
        "y_train = y_train.reshape(-1,1)                                              # reshape ให้ y_train เป็น column vector (model ใน sklearn)\n",
        "\n",
        "model = LinearRegression()                                                     # สร้าง linear regression object\n",
        "model.fit(X_train, y_train)                                                       # นำ train set มาเทรน linear regression model\n",
        "\n",
        "X_test = X_test.reshape(-1,2)                                                   # reshape ให้ X_test เป็น column vector (model ใน sklearn)\n",
        "y_test = y_test.reshape(-1,1)                                                   # reshape ให้ y_test เป็น column vector (model ใน sklearn)\n",
        "y_predict = model.predict(X_test)                                            # ทำการประมาณยอดขายทั่วโลก โดยใช้ test set ที่ได้แยกออกมาก่อนหน้านี้\n",
        "mse = mean_squared_error(y_predict, y_test)                                   # คำนวณ mean squared error ระหว่างค่าที่ประมาณได้ (y_predict) และ\n",
        "                                                                                           # ค่าจริงๆที่เป็น (y_test)\n",
        "print(\"MSE from Mean_Squared_Error : {}\".format(mse))\n",
        "\n",
        "m1 = np.array(model.coef_[0,0])                                                # เก็บค่าพารามิเตอร์ m1 ในรูปของ numpy array\n",
        "m2 = np.array(model.coef_[0,1])                                                # เก็บค่าพารามิเตอร์ m2 ในรูปของ numpy array\n",
        "m0 = np.array(model.intercept_[0])                                            # เก็บค่าพารามิเตอร์ m0 ในรูปของ numpy array\n",
        "\n",
        "#####################################################\n",
        "# คำนวณ mean squared error โดยตรงจากสมการโมเดลที่ได้\n",
        "#####################################################\n",
        "yh = m2*X_test[:,1].reshape(-1,1) + m1*X_test[:,0].reshape(-1,1) + m0         # สมการโมเดล Linear Regression y = m2*X2 + m1*X1 + m0\n",
        "msee = mean_squared_error(yh, y_test)                                         # คำนวณ mean squared error ระหว่าง yh และ y_test ซึ่งค่าที่ได้\n",
        "                                                                              # ควรจะได้เท่ากับค่าที่ได้จากคำสั่ง mean_squared_error( .... )\n",
        "print(\"MSE from direct calculation : {}\".format(msee))\n",
        "\n",
        "#####################################################\n",
        "# นำโมเดล Linear Regression ที่ได้มาประมาณยอดขายทั่วโลก\n",
        "#     เมื่อ ยอดขายของ NA_Sales = 200 M\n",
        "#         ยอดขายของ EU_Sales = 100 M\n",
        "#####################################################\n",
        "Xp = np.array([[200.0,100.0]])                                                     # สร้าง feature column array สำหรับใช้กับโมเดล\n",
        "y1 = m2*X2 + m1*X1 + m0                                                        # ประมาณยอดขายโดยใช้ sklearn\n",
        "y2 = m2*X2 + m1*X1 + m0                                                        # ประมาณยอดขายโดยใช้การคำนวณจากสมการโมเดลโดยตรง คือ\n",
        "                                                                                                # y = m2*X2 + m1*X1 + m0                                                                              \n",
        "print(\"Global Sales from sklearn : {}\".format(y1))                          # ค่า y1 จาก sklearn ต้องได้เท่ากับ ค่า y2 ที่ได้จากการคำนวณโดยตรง\n",
        "print(\"Global Sales from direct calculation : {}\".format(y2))            # จากสมการโมเดล"
      ],
      "execution_count": null,
      "outputs": []
    }
  ]
}